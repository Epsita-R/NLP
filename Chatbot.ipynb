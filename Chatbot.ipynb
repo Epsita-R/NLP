{
  "nbformat": 4,
  "nbformat_minor": 0,
  "metadata": {
    "colab": {
      "provenance": [],
      "authorship_tag": "ABX9TyO4KYEl9PL9+X9L1bibsl5E",
      "include_colab_link": true
    },
    "kernelspec": {
      "name": "python3",
      "display_name": "Python 3"
    },
    "language_info": {
      "name": "python"
    }
  },
  "cells": [
    {
      "cell_type": "markdown",
      "metadata": {
        "id": "view-in-github",
        "colab_type": "text"
      },
      "source": [
        "<a href=\"https://colab.research.google.com/github/Epsita-R/NLP/blob/main/Chatbot.ipynb\" target=\"_parent\"><img src=\"https://colab.research.google.com/assets/colab-badge.svg\" alt=\"Open In Colab\"/></a>"
      ]
    },
    {
      "cell_type": "markdown",
      "source": [
        "Chatbot Development using tools or code."
      ],
      "metadata": {
        "id": "WLLMi9TByn9s"
      }
    },
    {
      "cell_type": "code",
      "execution_count": 1,
      "metadata": {
        "id": "OOgSKOmmygNR",
        "colab": {
          "base_uri": "https://localhost:8080/"
        },
        "outputId": "71265185-9c8c-43d3-aa1f-13fd43e98bb9"
      },
      "outputs": [
        {
          "output_type": "stream",
          "name": "stdout",
          "text": [
            "Hi, I'm a chatbot. Type 'quit' to exit.\n",
            ">hi\n",
            "Hey there\n",
            ">how are you\n",
            "I'm doing good\n",
            "How about You ?\n",
            ">good\n",
            "Sorry, I didn't understand that.\n",
            ">quit\n",
            "Sorry, I didn't understand that.\n"
          ]
        }
      ],
      "source": [
        "import re\n",
        "import random\n",
        "import nltk\n",
        "from nltk.chat.util import Chat, reflections\n",
        "\n",
        "# Define a list of patterns and responses for the chatbot\n",
        "chatbot_pairs = [\n",
        "    [\n",
        "        r\"hi|hello|hey\",\n",
        "        [\"Hello\", \"Hey there\",]\n",
        "    ],\n",
        "    [\n",
        "        r\"what is your name?\",\n",
        "        [\"You can call me a chatbot.\",]\n",
        "    ],\n",
        "    [\n",
        "        r\"how are you ?\",\n",
        "        [\"I'm doing good\\nHow about You ?\",]\n",
        "    ],\n",
        "    [\n",
        "        r\"sorry (.*)\",\n",
        "        [\"It's alright\", \"Apologies are not needed\",]\n",
        "    ],\n",
        "    [\n",
        "        r\"(.*) (location|city) ?\",\n",
        "        ['Tokyo, Japan',]\n",
        "    ],\n",
        "    [\n",
        "        r\"(.*) created ?\",\n",
        "        [\"I was created by a developer.\",]\n",
        "    ],\n",
        "    [\n",
        "        r\"(.*) (weather|temperature) (.*)\",\n",
        "        [\"I am a chatbot, I don't have the ability to check the weather.\",]\n",
        "    ],\n",
        "    [\n",
        "        r\"(.*)\",\n",
        "        [\"Sorry, I didn't understand that.\",]\n",
        "    ],\n",
        "]\n",
        "\n",
        "# Create the chatbot\n",
        "def chatbot():\n",
        "    print(\"Hi, I'm a chatbot. Type 'quit' to exit.\")\n",
        "    chat = Chat(chatbot_pairs, reflections)\n",
        "    chat.converse()\n",
        "\n",
        "# Execute the chatbot\n",
        "if __name__ == \"__main__\":\n",
        "   chatbot()\n"
      ]
    },
    {
      "cell_type": "markdown",
      "source": [],
      "metadata": {
        "id": "PFJrSA5XHpw8"
      }
    }
  ]
}