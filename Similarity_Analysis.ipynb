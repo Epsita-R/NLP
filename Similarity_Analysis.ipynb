{
  "nbformat": 4,
  "nbformat_minor": 0,
  "metadata": {
    "colab": {
      "provenance": [],
      "authorship_tag": "ABX9TyOQBVGATuaHDGSv7D+oJZ1e",
      "include_colab_link": true
    },
    "kernelspec": {
      "name": "python3",
      "display_name": "Python 3"
    },
    "language_info": {
      "name": "python"
    }
  },
  "cells": [
    {
      "cell_type": "markdown",
      "metadata": {
        "id": "view-in-github",
        "colab_type": "text"
      },
      "source": [
        "<a href=\"https://colab.research.google.com/github/Epsita-R/NLP/blob/main/Similarity_Analysis.ipynb\" target=\"_parent\"><img src=\"https://colab.research.google.com/assets/colab-badge.svg\" alt=\"Open In Colab\"/></a>"
      ]
    },
    {
      "cell_type": "code",
      "source": [
        "from sklearn.feature_extraction.text import CountVectorizer\n",
        "from sklearn.metrics.pairwise import cosine_similarity\n",
        "\n",
        "\n",
        "def calculate_cosine_similarity(doc1, doc2):\n",
        "    vectorizer = CountVectorizer()\n",
        "    matrix = vectorizer.fit_transform([doc1, doc2])\n",
        "    cosine_sim = cosine_similarity(matrix)\n",
        "    return cosine_sim[0, 1]\n",
        "\n",
        "\n",
        "document1 = \"This is a sample text for similarity calculation.\"\n",
        "document2 = \"A similar text for testing cosine similarity.\"\n",
        "\n",
        "\n",
        "similarity_score = calculate_cosine_similarity(document1, document2)\n",
        "print(f\"Cosine Similarity: {similarity_score}\")"
      ],
      "metadata": {
        "colab": {
          "base_uri": "https://localhost:8080/"
        },
        "id": "ilenpDw9UgUM",
        "outputId": "9804d3b5-be25-4130-aca7-06bdeec305bc"
      },
      "execution_count": 1,
      "outputs": [
        {
          "output_type": "stream",
          "name": "stdout",
          "text": [
            "Cosine Similarity: 0.4629100498862757\n"
          ]
        }
      ]
    },
    {
      "cell_type": "code",
      "source": [
        "import nltk\n",
        "from sklearn.feature_extraction.text import TfidfVectorizer\n",
        "from sklearn.metrics.pairwise import cosine_similarity\n",
        "\n",
        "\n",
        "nltk.download('punkt')"
      ],
      "metadata": {
        "colab": {
          "base_uri": "https://localhost:8080/"
        },
        "id": "JzldUTrVUjs_",
        "outputId": "91975d8e-4af2-4f85-93f2-9185b7ac302c"
      },
      "execution_count": 2,
      "outputs": [
        {
          "output_type": "stream",
          "name": "stderr",
          "text": [
            "[nltk_data] Downloading package punkt to /root/nltk_data...\n",
            "[nltk_data]   Unzipping tokenizers/punkt.zip.\n"
          ]
        },
        {
          "output_type": "execute_result",
          "data": {
            "text/plain": [
              "True"
            ]
          },
          "metadata": {},
          "execution_count": 2
        }
      ]
    },
    {
      "cell_type": "code",
      "source": [
        "def calculate_cosine_similarity(doc1, doc2):\n",
        "    vectorizer = TfidfVectorizer()\n",
        "    matrix = vectorizer.fit_transform([doc1, doc2])\n",
        "    cosine_sim = cosine_similarity(matrix)\n",
        "    return cosine_sim[0, 1]\n",
        "\n",
        "\n",
        "similarity_score = calculate_cosine_similarity(document1, document2)\n",
        "print(f\"Cosine Similarity: {similarity_score}\")"
      ],
      "metadata": {
        "colab": {
          "base_uri": "https://localhost:8080/"
        },
        "id": "JZPa4PvJUlkq",
        "outputId": "54f0d0be-25a0-4bc5-b9dc-a599393e9609"
      },
      "execution_count": 3,
      "outputs": [
        {
          "output_type": "stream",
          "name": "stdout",
          "text": [
            "Cosine Similarity: 0.3041257418754935\n"
          ]
        }
      ]
    }
  ]
}