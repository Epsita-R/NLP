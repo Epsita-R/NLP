{
  "nbformat": 4,
  "nbformat_minor": 0,
  "metadata": {
    "colab": {
      "provenance": [],
      "include_colab_link": true
    },
    "kernelspec": {
      "name": "python3",
      "display_name": "Python 3"
    },
    "language_info": {
      "name": "python"
    }
  },
  "cells": [
    {
      "cell_type": "markdown",
      "metadata": {
        "id": "view-in-github",
        "colab_type": "text"
      },
      "source": [
        "<a href=\"https://colab.research.google.com/github/Epsita-R/NLP/blob/main/23485517_Lab6.ipynb\" target=\"_parent\"><img src=\"https://colab.research.google.com/assets/colab-badge.svg\" alt=\"Open In Colab\"/></a>"
      ]
    },
    {
      "cell_type": "code",
      "execution_count": null,
      "metadata": {
        "colab": {
          "base_uri": "https://localhost:8080/"
        },
        "id": "zBjKEYJx9lel",
        "outputId": "813b200a-a893-4630-ad4b-8853e7b494be"
      },
      "outputs": [
        {
          "output_type": "stream",
          "name": "stdout",
          "text": [
            "Chatbot: Hello! I'm a chatbot trained in NLP. You can ask me questions about NLP.\n",
            "Chatbot: You can type 'quit' to exit the conversation.\n",
            "User: 1\n",
            "Chatbot: I'm sorry, I don't understand.\n",
            "User: what is nlp\n",
            "Chatbot: Natural Language Processing (NLP) is a field of artificial intelligence that focuses on the interaction between computers and humans through natural language.\n",
            "User: what is pos tagging\n",
            "Chatbot: Part-of-speech tagging (POS tagging) is the process of marking up a word in a text as corresponding to a particular part of speech.\n",
            "User: quit\n",
            "Chatbot: Goodbye!\n"
          ]
        }
      ],
      "source": [
        "import nltk\n",
        "import random\n",
        "from nltk.chat.util import Chat, reflections\n",
        "\n",
        "# Define some reflections for the chatbot\n",
        "reflections = {\n",
        "    \"i am\": \"you are\",\n",
        "    \"i was\": \"you were\",\n",
        "    \"i\": \"you\",\n",
        "    \"i'm\": \"you are\",\n",
        "    \"i'd\": \"you would\",\n",
        "    \"i've\": \"you have\",\n",
        "    \"i'll\": \"you will\",\n",
        "    \"my\": \"your\",\n",
        "    \"you are\": \"I am\",\n",
        "    \"you were\": \"I was\",\n",
        "    \"you've\": \"I have\",\n",
        "    \"you'll\": \"I will\",\n",
        "    \"your\": \"my\",\n",
        "    \"yours\": \"mine\",\n",
        "    \"you\": \"me\",\n",
        "    \"me\": \"you\"\n",
        "}\n",
        "\n",
        "# Define patterns and responses for the chatbot\n",
        "patterns = [\n",
        "    (r\"what is NLP|define NLP\", [\"Natural Language Processing (NLP) is a field of artificial intelligence that focuses on the interaction between computers and humans through natural language.\"]),\n",
        "    (r\"what is word tokenization|tokenization\", [\"Tokenization is the process of breaking text into words or sentences.\"]),\n",
        "    (r\"what is POS tagging|POS tagging\", [\"Part-of-speech tagging (POS tagging) is the process of marking up a word in a text as corresponding to a particular part of speech.\"]),\n",
        "    (r\"what is named entity recognition|NER\", [\"Named Entity Recognition (NER) is the process of identifying named entities in text such as persons, organizations, and locations.\"]),\n",
        "    (r\"exit|quit\", [\"Goodbye!\"]),\n",
        "    (r\"\", [\"I'm sorry, I don't understand.\", \"Could you please rephrase that?\", \"I'm not sure I follow.\"]),\n",
        "]\n",
        "\n",
        "# Create a chatbot instance\n",
        "chatbot = Chat(patterns, reflections)\n",
        "\n",
        "# Start the conversation\n",
        "print(\"Chatbot: Hello! I'm a chatbot trained in NLP. You can ask me questions about NLP.\")\n",
        "print(\"Chatbot: You can type 'quit' to exit the conversation.\")\n",
        "\n",
        "# Chatbot loop\n",
        "while True:\n",
        "    user_input = input(\"User: \")\n",
        "    response = chatbot.respond(user_input)\n",
        "    print(\"Chatbot:\", response)\n",
        "\n",
        "    # Check for exit command\n",
        "    if response == \"Goodbye!\":\n",
        "        break\n"
      ]
    },
    {
      "cell_type": "code",
      "source": [],
      "metadata": {
        "id": "UQpAe_Xf9nmX"
      },
      "execution_count": null,
      "outputs": []
    }
  ]
}